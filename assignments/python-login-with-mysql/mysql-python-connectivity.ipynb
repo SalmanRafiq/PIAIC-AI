{
 "cells": [
  {
   "cell_type": "code",
   "execution_count": 6,
   "metadata": {},
   "outputs": [],
   "source": [
    "import os\n",
    "import pymysql\n",
    "import pandas as pd\n",
    "\n",
    "host = os.getenv('MYSQL_HOST')\n",
    "port = os.getenv('MYSQL_PORT')\n",
    "user = os.getenv('MYSQL_USER')\n",
    "password = os.getenv('MYSQL_PASSWORD')\n",
    "database = os.getenv('MYSQL_DATABASE')\n",
    "\n",
    "conn = pymysql.connect(\n",
    "    host=host,\n",
    "    port=int(3306),\n",
    "    user=\"root\",\n",
    "    passwd=password,\n",
    "    db=\"python_db\",\n",
    "    charset='utf8mb4')"
   ]
  },
  {
   "cell_type": "code",
   "execution_count": 12,
   "metadata": {},
   "outputs": [
    {
     "name": "stdout",
     "output_type": "stream",
     "text": [
      "Enter User Name :Muhammad Salman\n",
      "Enter Password :123123\n",
      "Please Try Again, or Check User Name and Password\n"
     ]
    }
   ],
   "source": [
    "user = input(\"Enter User Name :\")\n",
    "password = input(\"Enter Password :\")\n",
    "applicant = pd.read_sql_query(\"select * from applicants where name='\"+user+\"' and password='\"+password+\"'  \"  ,conn)\n",
    "if not applicant.empty:        \n",
    "    if( applicant.iloc[0]['name'] == user):\n",
    "        print(\"Login Successfull\")\n",
    "    else:\n",
    "        print(\"User Name or Password inCorrect\")\n",
    "else:\n",
    "    print(\"Please Try Again, or Check User Name and Password\")"
   ]
  },
  {
   "cell_type": "code",
   "execution_count": null,
   "metadata": {},
   "outputs": [],
   "source": []
  }
 ],
 "metadata": {
  "kernelspec": {
   "display_name": "Python 3",
   "language": "python",
   "name": "python3"
  },
  "language_info": {
   "codemirror_mode": {
    "name": "ipython",
    "version": 3
   },
   "file_extension": ".py",
   "mimetype": "text/x-python",
   "name": "python",
   "nbconvert_exporter": "python",
   "pygments_lexer": "ipython3",
   "version": "3.7.3"
  }
 },
 "nbformat": 4,
 "nbformat_minor": 2
}
