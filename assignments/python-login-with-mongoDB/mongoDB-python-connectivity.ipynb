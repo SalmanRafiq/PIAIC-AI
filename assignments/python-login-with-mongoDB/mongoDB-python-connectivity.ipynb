{
 "cells": [
  {
   "cell_type": "code",
   "execution_count": 39,
   "metadata": {},
   "outputs": [],
   "source": [
    "from pymongo import MongoClient \n",
    "\n",
    "myclient = MongoClient('mongodb://localhost:27017/')\n"
   ]
  },
  {
   "cell_type": "code",
   "execution_count": 16,
   "metadata": {},
   "outputs": [
    {
     "name": "stdout",
     "output_type": "stream",
     "text": [
      "['admin', 'config', 'flask_portfolio', 'local']\n"
     ]
    }
   ],
   "source": [
    "print(myclient.list_database_names())"
   ]
  },
  {
   "cell_type": "code",
   "execution_count": 40,
   "metadata": {},
   "outputs": [
    {
     "name": "stdout",
     "output_type": "stream",
     "text": [
      "The database exists.\n"
     ]
    }
   ],
   "source": [
    "dblist = myclient.list_database_names()\n",
    "if \"flask_portfolio\" in dblist:\n",
    "  print(\"The database exists.\")"
   ]
  },
  {
   "cell_type": "code",
   "execution_count": 41,
   "metadata": {},
   "outputs": [
    {
     "name": "stdout",
     "output_type": "stream",
     "text": [
      "['applicants']\n"
     ]
    }
   ],
   "source": [
    "portfolio_db = myclient[\"flask_portfolio\"]\n",
    "print(portfolio_db.list_collection_names())"
   ]
  },
  {
   "cell_type": "code",
   "execution_count": 43,
   "metadata": {},
   "outputs": [
    {
     "name": "stdout",
     "output_type": "stream",
     "text": [
      "{'_id': ObjectId('5d1371bb163d34c509ec63f7'), 'first_name': 'Salman', 'last_name': 'Rafiq', 'password': '123456'}\n"
     ]
    }
   ],
   "source": [
    "cursor = portfolio_db.applicants.find({})\n",
    "for document in cursor:\n",
    "          print(document)"
   ]
  },
  {
   "cell_type": "code",
   "execution_count": 48,
   "metadata": {},
   "outputs": [
    {
     "name": "stdout",
     "output_type": "stream",
     "text": [
      "Enter User Name :Salman\n",
      "Enter Password :123456\n",
      "User Exist\n"
     ]
    }
   ],
   "source": [
    "user = input(\"Enter User Name :\")\n",
    "password = input(\"Enter Password :\")\n",
    "\n",
    "if portfolio_db.applicants.count_documents( {'first_name': user, 'password':password} ) > 0:\n",
    "    print(\"User Exist\")\n",
    "else:\n",
    "    print(\"User name or Password is Incorrect....\")"
   ]
  }
 ],
 "metadata": {
  "kernelspec": {
   "display_name": "Python 3",
   "language": "python",
   "name": "python3"
  },
  "language_info": {
   "codemirror_mode": {
    "name": "ipython",
    "version": 3
   },
   "file_extension": ".py",
   "mimetype": "text/x-python",
   "name": "python",
   "nbconvert_exporter": "python",
   "pygments_lexer": "ipython3",
   "version": "3.7.3"
  }
 },
 "nbformat": 4,
 "nbformat_minor": 2
}
